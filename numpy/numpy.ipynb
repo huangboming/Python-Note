{
 "cells": [
  {
   "cell_type": "code",
   "execution_count": 6,
   "metadata": {},
   "outputs": [],
   "source": [
    "from IPython.core.interactiveshell import InteractiveShell\n",
    "InteractiveShell.ast_node_interactivity = \"all\"\n",
    "import numpy as np\n",
    "\n",
    "## np.array(list)相当于类型转换函数，将list转换为array\n",
    "## array.shape 表示array的形状\n",
    "## array.ndim 表示array的维数,相当于len(array.shape)\n",
    "## array.size 表示array中总共有多少元素\n",
    "## array.nbytes 表示array所占用的内存\n",
    "a_array = np.array([1, 2, 3])## 一维形式（一行三列）\n",
    "\n",
    "b_array = np.array([[1, 2, 4], [4, 5, 6]]) ## 二维形式（两行三列），更高维形式可以通过多维list生成 嵌套列表中的元素个数必须相同，否则只会读取第一个列表中的元素\n"
   ]
  },
  {
   "cell_type": "code",
   "execution_count": null,
   "metadata": {},
   "outputs": [],
   "source": [
    "## 创建只含一种元素的array的方法: np.zeros(shapes); np.ones(shapes); np.full(shapes, number)\n",
    "## shape是一个包含想生成array的形状参数的元组（几行几列等等）,number表示要填充的数字\n",
    "## np.zeros表示array中的元素全为0, np.ones表示array中的元素全为1\n",
    "## 默认生成的array中的元素类型为float,可以在函数中加上可选参数dtype=int进行类型转换\n",
    "c_array = np.zeros((1, 2), dtype = int)  ## (1, 2)表示一行二列\n",
    "c_array\n",
    "\n",
    "d_array = np.zeros((3,), dtype = int)\n",
    "d_array\n",
    "\n",
    "e_array = np.full((2, 3), 5, dtype = int)\n",
    "e_array"
   ]
  },
  {
   "cell_type": "code",
   "execution_count": null,
   "metadata": {},
   "outputs": [],
   "source": [
    "## np.arange(start, stop, step)\n",
    "## np.linspace(start, stop, num, endpoint = True) ——将[start, stop] num-1等分， endpoint为True时表示区间包含stop,为False时表示区间不包含stop\n",
    "## 两者同样可以传递dtype参数改变元素类型\n",
    "\n",
    "np.linspace(1, 3, 5, dtype = float)\n",
    "np.linspace(1, 3, 5, endpoint = False)"
   ]
  },
  {
   "cell_type": "code",
   "execution_count": null,
   "metadata": {},
   "outputs": [],
   "source": [
    "## np.random.rand(d1, d2, ...) 从0到1中随机挑取元素生成array; d1, d2, ...表示该维数含有元素的个数\n",
    "## np.random.randint(start [,stop], size) 从start到stop-1中随机挑取整数元素生成array, size表示array中所含元素的个数\n",
    "\n",
    "np.random.rand(2, 10)\n",
    "np.random.randint(1, 101, 12)"
   ]
  },
  {
   "cell_type": "code",
   "execution_count": null,
   "metadata": {},
   "outputs": [],
   "source": [
    "## array和list一样有slice,方法也基本一样\n",
    "## 不同的是高维的slice: array[start1: end1, start2: end2, ...]; list[start1: end1][start2: end2]...\n",
    "## 如果改变slice的array/list,原array/list中的对应元素也会改变"
   ]
  },
  {
   "cell_type": "code",
   "execution_count": null,
   "metadata": {},
   "outputs": [],
   "source": [
    "## 复制一个array: array.copy()"
   ]
  },
  {
   "cell_type": "code",
   "execution_count": 50,
   "metadata": {},
   "outputs": [
    {
     "data": {
      "text/plain": [
       "array([1, 2, 3])"
      ]
     },
     "execution_count": 50,
     "metadata": {},
     "output_type": "execute_result"
    },
    {
     "data": {
      "text/plain": [
       "array([2, 3, 4])"
      ]
     },
     "execution_count": 50,
     "metadata": {},
     "output_type": "execute_result"
    },
    {
     "data": {
      "text/plain": [
       "array([3, 5, 7])"
      ]
     },
     "execution_count": 50,
     "metadata": {},
     "output_type": "execute_result"
    }
   ],
   "source": [
    "## 数值运算：可以用数值操作符来改变array中的元素\n",
    "a_array\n",
    "a = a_array + 1 # array中所有元素数值+1; list做不到这一点\n",
    "a\n",
    "c = a_array + a # array1与array2对应元素相加\n",
    "c"
   ]
  },
  {
   "cell_type": "code",
   "execution_count": null,
   "metadata": {},
   "outputs": [],
   "source": [
    "## 如果要做矩阵乘法的话可以用np.dot(A, B)\n",
    "## 如果A, B都是1维的，结果是两个向量的内积\n",
    "## 如果A, B有一个是高维的，那么结果是矩阵乘积：AB (注意，必须符合矩阵乘法的前提, 而且矩阵中不能有未知数(一大遗憾)) "
   ]
  },
  {
   "cell_type": "code",
   "execution_count": 60,
   "metadata": {},
   "outputs": [],
   "source": [
    "## 比较操作符：可以用比较操作符来比较两个array中的值，返回一个全为boolean value的array\n",
    "## 如果要判断两个array是否完全相同（形状以及array中的值），要用np.array_equal(array1, array2)"
   ]
  },
  {
   "cell_type": "code",
   "execution_count": 75,
   "metadata": {},
   "outputs": [
    {
     "data": {
      "text/plain": [
       "True"
      ]
     },
     "execution_count": 75,
     "metadata": {},
     "output_type": "execute_result"
    }
   ],
   "source": [
    "## 逻辑操作符：np.logical_and(array1, array2) \n",
    "##           np.logical_or(array1, array2)\n",
    "##           np.logical_not(array)\n",
    "##           array.all() 判断array中所有元素的boolean value, 只要有一个为False就返回False, 如果全为True则返回True, 可以理解为 Are all elements in the array True?\n",
    "##           也可以用内建函数all(iterable)\n",
    "##           array.any() 判断array中所有元素的boolean value, 只要有一个为True就返回True, 如果全为False则返回False, 可以理解为 Is there a element in the array True?\n",
    "##           也可以用内建函数any(iterable)"
   ]
  },
  {
   "cell_type": "code",
   "execution_count": 12,
   "metadata": {},
   "outputs": [
    {
     "data": {
      "text/plain": [
       "False"
      ]
     },
     "execution_count": 12,
     "metadata": {},
     "output_type": "execute_result"
    }
   ],
   "source": [
    "all(np.array([1, 3, 0]))"
   ]
  },
  {
   "cell_type": "code",
   "execution_count": null,
   "metadata": {},
   "outputs": [],
   "source": []
  }
 ],
 "metadata": {
  "kernelspec": {
   "display_name": "Python 3",
   "language": "python",
   "name": "python3"
  },
  "language_info": {
   "codemirror_mode": {
    "name": "ipython",
    "version": 3
   },
   "file_extension": ".py",
   "mimetype": "text/x-python",
   "name": "python",
   "nbconvert_exporter": "python",
   "pygments_lexer": "ipython3",
   "version": "3.7.6"
  }
 },
 "nbformat": 4,
 "nbformat_minor": 4
}
